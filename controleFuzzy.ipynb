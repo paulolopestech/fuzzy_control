{
  "cells": [
    {
      "cell_type": "code",
      "execution_count": null,
      "metadata": {
        "colab": {
          "base_uri": "https://localhost:8080/"
        },
        "id": "2Dq20D-4NrwC",
        "outputId": "f06058e8-6f4f-4f63-bd52-f35a9a31839b"
      },
      "outputs": [],
      "source": [
        "# pip install scikit-fuzzy"
      ]
    },
    {
      "cell_type": "code",
      "execution_count": null,
      "metadata": {
        "colab": {
          "base_uri": "https://localhost:8080/"
        },
        "id": "ON2zhBYGXwcL",
        "outputId": "4c15bc32-770b-4276-abcd-323e78e8a73b"
      },
      "outputs": [],
      "source": [
        "# pip install paho-mqtt"
      ]
    },
    {
      "cell_type": "code",
      "execution_count": null,
      "metadata": {},
      "outputs": [],
      "source": [
        "# Fuzzy logic and Controll dependencies\n",
        "import skfuzzy as fuzz\n",
        "from skfuzzy import control as ctrl\n",
        "\n",
        "# Mathemathical dependencies\n",
        "import numpy as np\n",
        "import time\n",
        "\n",
        "# MQTT dependencies\n",
        "import paho.mqtt.client as mqtt\n",
        "import localCredentials as creds\n",
        "\n",
        "# UI dependencies\n",
        "from IPython.display import display\n",
        "from ipywidgets import widgets\n",
        "import threading"
      ]
    },
    {
      "cell_type": "code",
      "execution_count": null,
      "metadata": {
        "colab": {
          "base_uri": "https://localhost:8080/",
          "height": 451
        },
        "id": "SZd9-rlkOSKM",
        "outputId": "8b89c217-80ac-4dc7-ccf2-439868b7374d"
      },
      "outputs": [],
      "source": [
        "# MQTT Broker\n",
        "client = mqtt.Client(creds.client)\n",
        "client.connect(creds.ip, creds.port, 60)"
      ]
    },
    {
      "cell_type": "code",
      "execution_count": null,
      "metadata": {},
      "outputs": [],
      "source": [
        "# Create Antecedent/Consequent objects for fuzzy controller\n",
        "errotemp = ctrl.Antecedent(np.arange(-10, 10.1, 0.1), 'errotemp')\n",
        "varerrotemp = ctrl.Antecedent(np.arange(-1, 1.01, 0.01), 'varerrotemp')\n",
        "resfriador = ctrl.Consequent(np.arange(0, 101, 1), 'resfriador')"
      ]
    },
    {
      "cell_type": "code",
      "execution_count": null,
      "metadata": {},
      "outputs": [],
      "source": [
        "# Define membership functions for 'errotemp'\n",
        "errotemp['MN'] = fuzz.trapmf(errotemp.universe, [-18, -18, -2, -1.2])\n",
        "errotemp['PN'] = fuzz.trimf(errotemp.universe, [-1.2, -0.6, 0])\n",
        "errotemp['ZE'] = fuzz.trimf(errotemp.universe, [-0.6, 0, 0.6])\n",
        "errotemp['PP'] = fuzz.trimf(errotemp.universe, [0, 0.6, 1.2])\n",
        "errotemp['MP'] = fuzz.trapmf(errotemp.universe, [1.2, 2, 18, 18])\n",
        "\n",
        "# Display membership functions\n",
        "errotemp.view()"
      ]
    },
    {
      "cell_type": "code",
      "execution_count": null,
      "metadata": {
        "colab": {
          "base_uri": "https://localhost:8080/",
          "height": 451
        },
        "id": "3R3jLCwPTiBq",
        "outputId": "deed8d77-562e-4d85-b2c3-e6ae8961030c"
      },
      "outputs": [],
      "source": [
        "# Define membership functions for 'varerrotemp'\n",
        "varerrotemp['MN'] = fuzz.trapmf(varerrotemp.universe, [-18, -18, -0.2,-0.1])\n",
        "varerrotemp['PN'] = fuzz.trimf(varerrotemp.universe, [-0.2,-0.1,0])\n",
        "varerrotemp['ZE'] = fuzz.trimf(varerrotemp.universe, [-0.1, 0, 0.1])\n",
        "varerrotemp['PP'] = fuzz.trimf(varerrotemp.universe, [0, 0.1, 0.2])\n",
        "varerrotemp['MP'] = fuzz.trapmf(varerrotemp.universe,[0.1, 0.2, 18, 18])\n",
        "\n",
        "# Display 'varerrotemp' membership functions\n",
        "varerrotemp.view()"
      ]
    },
    {
      "cell_type": "code",
      "execution_count": null,
      "metadata": {
        "colab": {
          "base_uri": "https://localhost:8080/",
          "height": 451
        },
        "id": "S2a1byVd1Vys",
        "outputId": "625d8473-fa46-401f-abf0-730933cdeec6"
      },
      "outputs": [],
      "source": [
        "# Define membership functions for 'resfriador'\n",
        "resfriador['MB'] = fuzz.trimf(resfriador.universe, [0,0,25])\n",
        "resfriador['B'] = fuzz.trimf(resfriador.universe, [0,25,50])\n",
        "resfriador['M'] = fuzz.trimf(resfriador.universe, [25, 50, 75])\n",
        "resfriador['A'] = fuzz.trimf(resfriador.universe, [50, 75, 100])\n",
        "resfriador['MA'] = fuzz.trimf(resfriador.universe, [75, 100, 100])\n",
        "\n",
        "# Display 'resfriador' membership functions\n",
        "resfriador.view()"
      ]
    },
    {
      "cell_type": "code",
      "execution_count": null,
      "metadata": {
        "id": "ls9H58eVX0Lp"
      },
      "outputs": [],
      "source": [
        "# Define fuzzy rules for the controller. Each rule determines the output of the cooler ('resfriador')\n",
        "# based on the temperature error ('errotemp') and the variation in temperature error ('varerrotemp').\n",
        "\n",
        "regra1 = ctrl.Rule(errotemp['MN'] & varerrotemp['MN'], resfriador['MB'])\n",
        "regra2 = ctrl.Rule(errotemp['PN'] & varerrotemp['MN'], resfriador['MB'])\n",
        "regra3 = ctrl.Rule(errotemp['ZE'] & varerrotemp['MN'], resfriador['MB'])\n",
        "regra4 = ctrl.Rule(errotemp['PP'] & varerrotemp['MN'], resfriador['A'])\n",
        "regra5 = ctrl.Rule(errotemp['MP'] & varerrotemp['MN'], resfriador['M'])\n",
        "\n",
        "regra6 = ctrl.Rule(errotemp['MN'] & varerrotemp['PN'], resfriador['MB'])\n",
        "regra7 = ctrl.Rule(errotemp['PN'] & varerrotemp['PN'], resfriador['B'])\n",
        "regra8 = ctrl.Rule(errotemp['ZE'] & varerrotemp['PN'], resfriador['B'])\n",
        "regra9 = ctrl.Rule(errotemp['PP'] & varerrotemp['PN'], resfriador['A'])\n",
        "regra10 = ctrl.Rule(errotemp['MP'] & varerrotemp['PN'], resfriador['A'])\n",
        "\n",
        "regra11 = ctrl.Rule(errotemp['MN'] & varerrotemp['ZE'], resfriador['MB'])\n",
        "regra12 = ctrl.Rule(errotemp['PN'] & varerrotemp['ZE'], resfriador['B'])\n",
        "regra13 = ctrl.Rule(errotemp['ZE'] & varerrotemp['ZE'], resfriador['M'])\n",
        "regra14 = ctrl.Rule(errotemp['PP'] & varerrotemp['ZE'], resfriador['A'])\n",
        "regra15 = ctrl.Rule(errotemp['MP'] & varerrotemp['ZE'], resfriador['MA'])\n",
        "\n",
        "regra16 = ctrl.Rule(errotemp['MN'] & varerrotemp['PP'], resfriador['B'])\n",
        "regra17 = ctrl.Rule(errotemp['PN'] & varerrotemp['PP'], resfriador['B'])\n",
        "regra18 = ctrl.Rule(errotemp['ZE'] & varerrotemp['PP'], resfriador['A'])\n",
        "regra19 = ctrl.Rule(errotemp['PP'] & varerrotemp['PP'], resfriador['MA'])\n",
        "regra20 = ctrl.Rule(errotemp['MP'] & varerrotemp['PP'], resfriador['MA'])\n",
        "\n",
        "regra21 = ctrl.Rule(errotemp['MN'] & varerrotemp['MP'], resfriador['M'])\n",
        "regra22 = ctrl.Rule(errotemp['PN'] & varerrotemp['MP'], resfriador['B'])\n",
        "regra23 = ctrl.Rule(errotemp['ZE'] & varerrotemp['MP'], resfriador['MA'])\n",
        "regra24 = ctrl.Rule(errotemp['PP'] & varerrotemp['MP'], resfriador['MA'])\n",
        "regra25 = ctrl.Rule(errotemp['MP'] & varerrotemp['MP'], resfriador['MA'])\n",
        "\n",
        "# Create a Control System using the defined rules\n",
        "resfriador_ctrl = ctrl.ControlSystem([\n",
        "    regra1, regra2, regra3, regra4, regra5, regra6, regra7, regra8, regra9,\n",
        "    regra10, regra11, regra12, regra13, regra14, regra15, regra16, regra17,\n",
        "    regra18, regra19, regra20, regra21, regra22, regra23, regra24, regra25\n",
        "])\n",
        "\n",
        "# Create a Control System Simulation to simulate the control system\n",
        "potencia = ctrl.ControlSystemSimulation(resfriador_ctrl)"
      ]
    },
    {
      "cell_type": "code",
      "execution_count": null,
      "metadata": {},
      "outputs": [],
      "source": [
        "caption = widgets.Label(value='Selecione o modo de operação.')\n",
        "dropdown = widgets.Dropdown(\n",
        "    options=[('Armazenamento de Vacinas', -2), \n",
        "             ('Temperatura de mantimento fora de operação', -6), \n",
        "             ('Armazenamento de Amostras Biológicas', -8)],\n",
        "    value=-2,\n",
        "    description='Selecione:',\n",
        "    layout=widgets.Layout(width='400px')\n",
        ")\n",
        "\n",
        "def handle_dropdown_change(change):\n",
        "    caption.value = 'Operando em: ' + str(change.new) + 'ºC'\n",
        "    global sp \n",
        "    sp = change.new\n",
        "\n",
        "# Display the UI\n",
        "display(caption, dropdown)\n",
        "dropdown.observe(handle_dropdown_change, names='value')"
      ]
    },
    {
      "cell_type": "code",
      "execution_count": null,
      "metadata": {
        "colab": {
          "background_save": true,
          "base_uri": "https://localhost:8080/"
        },
        "id": "mA02tTBjY9na",
        "outputId": "773be6d6-eccb-4ba9-8f05-851a8bda7406"
      },
      "outputs": [],
      "source": [
        "# Setpoint and initial temperature\n",
        "sp = 9\n",
        "tempatual = 9\n",
        "print(tempatual)\n",
        "\n",
        "# Calculate initial temperature error\n",
        "erroatual = tempatual - sp\n",
        "\n",
        "def main_controller():\n",
        "    global erroatual, tempatual\n",
        "    while True:\n",
        "        # Calculate error and error variation\n",
        "        erroanterior = erroatual\n",
        "        erroatual = tempatual - sp\n",
        "        varerroTemp = erroatual - erroanterior\n",
        "        \n",
        "        # Input error and error variation into the control system\n",
        "        potencia.input['errotemp'] = erroatual\n",
        "        if (-1 < varerroTemp < 1): potencia.input['varerrotemp'] = varerroTemp\n",
        "        else: potencia.input['varerrotemp'] = 0\n",
        "        \n",
        "        # Compute the output of the control system\n",
        "        potencia.compute()\n",
        "        \n",
        "        # Update the temperature 10 times based on the output of the control system\n",
        "        i = 0\n",
        "        while (i < 10):\n",
        "            tempatual = tempatual * 0.9952 - potencia.output['resfriador'] * 0.0003963\n",
        "            time.sleep(0.1)\n",
        "            i += 1\n",
        "        \n",
        "        # Print the current temperature, error, and error variation inline\n",
        "        print('TEMP: {}\\tERR: {}\\tVAR ERR: {}'.format(tempatual, erroatual, varerroTemp), end='\\r')\n",
        "\n",
        "        # Publish the current temperature and error to the MQTT broker\n",
        "        client.publish(\"Resfriador/Temperatura\", tempatual)\n",
        "        client.publish(\"Resfriador/erro\", erroatual)\n",
        "\n",
        "loop_thread = threading.Thread(target=main_controller)\n",
        "loop_thread.start()"
      ]
    }
  ],
  "metadata": {
    "colab": {
      "provenance": []
    },
    "kernelspec": {
      "display_name": "Python 3",
      "name": "python3"
    },
    "language_info": {
      "codemirror_mode": {
        "name": "ipython",
        "version": 3
      },
      "file_extension": ".py",
      "mimetype": "text/x-python",
      "name": "python",
      "nbconvert_exporter": "python",
      "pygments_lexer": "ipython3",
      "version": "3.10.2"
    }
  },
  "nbformat": 4,
  "nbformat_minor": 0
}
